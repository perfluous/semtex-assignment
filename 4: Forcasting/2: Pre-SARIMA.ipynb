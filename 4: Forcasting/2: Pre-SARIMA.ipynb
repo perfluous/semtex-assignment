{
 "cells": [
  {
   "cell_type": "markdown",
   "source": [
    "# SAMIRA Process Hardware Requirements\n",
    "\n",
    "## Overview\n",
    "\n",
    "The SAMIRA (Statistical Analysis and Machine Learning Integrated Research Application) process involves complex computations that demand significant computational resources. To ensure the accurate and efficient execution of the SAMIRA process, it's essential to evaluate the hardware requirements.\n",
    "\n",
    "## Current Challenges\n",
    "\n",
    "- **Computational Intensity:** SAMIRA involves various data preprocessing, modeling, and evaluation steps that can be computationally intensive, especially with large datasets.\n",
    "  \n",
    "- **Memory Usage:** Some stages in the SAMIRA process might require substantial memory, especially when handling large data structures or when applying specific algorithms.\n",
    "\n",
    "- **Parallel Processing:** Although SAMIRA can benefit from parallel processing, our current hardware might not fully support or optimize parallel tasks, leading to suboptimal performance.\n",
    "\n",
    "## Recommendations\n",
    "\n",
    "1. **Upgrade Hardware:** Consider investing in more advanced hardware with:\n",
    "   - Faster CPUs with more cores to enhance parallel processing capabilities.\n",
    "   - Increased RAM to handle large datasets and complex computations without memory bottlenecks.\n",
    "   - Efficient GPU support if certain machine learning algorithms can leverage GPU acceleration.\n",
    "   \n",
    "2. **Extended Runtime:** If hardware upgrades are not immediately feasible, it's essential to understand that the SAMIRA process might require longer runtimes to complete on the existing hardware. It's crucial to allocate sufficient time for the process to ensure accurate results.\n",
    "\n",
    "3. **Cluster Computing:** Consider leveraging cluster computing or cloud-based solutions that allow scaling of resources based on the computational demand of the SAMIRA process.\n",
    "\n",
    "## Conclusion\n",
    "\n",
    "To carry out the SAMIRA process effectively, it's imperative to either upgrade the hardware to meet the computational demands or allocate longer runtimes on the current setup. Proper planning and resource allocation are crucial to achieving the best results from the SAMIRA process.\n"
   ],
   "metadata": {
    "collapsed": false
   },
   "id": "c039cad10bd3647"
  },
  {
   "cell_type": "code",
   "execution_count": 1,
   "outputs": [],
   "source": [
    "import os\n",
    "import pandas as pd\n",
    "from statsmodels.tsa.statespace.sarimax import SARIMAX\n",
    "from itertools import product\n",
    "from joblib import Parallel, delayed, Memory\n",
    "import gc\n",
    "\n",
    "train_data_path = os.path.join('training_data.csv')\n",
    "output_path = os.path.join('sarima_parameters.txt')\n",
    "\n",
    "\n",
    "train_data = pd.read_csv(train_data_path)\n",
    "energy_data_train = train_data['Building Semtex OFFICE (kWh)']\n",
    "\n",
    "# Define the parameter grid for SARIMA\n",
    "p = [2]\n",
    "d = [1]\n",
    "q = range(0, 6)\n",
    "P = D = Q = [2]\n",
    "S_values = [24, 12, 168]\n",
    "\n",
    "pdq = list(product(p, d, q))\n",
    "seasonal_pdq = [comb for S in S_values for comb in list(product(P, D, Q, [S]))]\n",
    "\n",
    "# Setup joblib Memory caching to a specified folder\n",
    "memory = Memory(\"sarima_cache\", verbose=0)"
   ],
   "metadata": {
    "collapsed": false,
    "ExecuteTime": {
     "end_time": "2023-10-09T02:09:28.672402447Z",
     "start_time": "2023-10-09T02:09:28.266803801Z"
    }
   },
   "id": "cda9c2403d471919"
  },
  {
   "cell_type": "code",
   "execution_count": 1,
   "outputs": [
    {
     "name": "stdout",
     "output_type": "stream",
     "text": [
      "RUNNING THE L-BFGS-B CODE\n",
      "\n",
      "           * * *\n",
      "\n",
      "Machine precision = 2.220D-16\n",
      " N =            7     M =           10\n",
      "\n",
      "At X0         0 variables are exactly at the bounds\n",
      "\n",
      "At iterate    0    f=  2.75543D+00    |proj g|=  1.44396D-01\n"
     ]
    },
    {
     "name": "stderr",
     "output_type": "stream",
     "text": [
      " This problem is unconstrained.\n"
     ]
    },
    {
     "name": "stdout",
     "output_type": "stream",
     "text": [
      "RUNNING THE L-BFGS-B CODE\n",
      "\n",
      "           * * *\n",
      "\n",
      "Machine precision = 2.220D-16\n",
      " N =           10     M =           10\n",
      "\n",
      "At X0         0 variables are exactly at the bounds\n",
      "\n",
      "At iterate    0    f=  2.82802D+00    |proj g|=  6.44068D-01\n"
     ]
    },
    {
     "name": "stderr",
     "output_type": "stream",
     "text": [
      " This problem is unconstrained.\n"
     ]
    },
    {
     "name": "stdout",
     "output_type": "stream",
     "text": [
      "RUNNING THE L-BFGS-B CODE\n",
      "\n",
      "           * * *\n",
      "\n",
      "Machine precision = 2.220D-16\n",
      " N =            8     M =           10\n",
      "\n",
      "At X0         0 variables are exactly at the bounds\n",
      "\n",
      "At iterate    0    f=  2.14713D+00    |proj g|=  2.14455D-01\n",
      "RUNNING THE L-BFGS-B CODE\n",
      "\n",
      "           * * *\n",
      "\n",
      "Machine precision = 2.220D-16\n",
      " N =            9     M =           10\n",
      "\n",
      "At X0         0 variables are exactly at the bounds\n",
      "\n",
      "At iterate    0    f=  2.14266D+00    |proj g|=  2.13488D-01\n"
     ]
    },
    {
     "name": "stderr",
     "output_type": "stream",
     "text": [
      " This problem is unconstrained.\n",
      " This problem is unconstrained.\n"
     ]
    },
    {
     "name": "stdout",
     "output_type": "stream",
     "text": [
      "RUNNING THE L-BFGS-B CODE\n",
      "\n",
      "           * * *\n",
      "\n",
      "Machine precision = 2.220D-16\n",
      " N =            8     M =           10\n",
      "\n",
      "At X0         0 variables are exactly at the bounds\n",
      "\n",
      "At iterate    0    f=  2.75368D+00    |proj g|=  1.44598D-01\n"
     ]
    },
    {
     "name": "stderr",
     "output_type": "stream",
     "text": [
      " This problem is unconstrained.\n"
     ]
    },
    {
     "name": "stdout",
     "output_type": "stream",
     "text": [
      "RUNNING THE L-BFGS-B CODE\n",
      "\n",
      "           * * *\n",
      "\n",
      "Machine precision = 2.220D-16\n",
      " N =            9     M =           10\n",
      "\n",
      "At X0         0 variables are exactly at the bounds\n",
      "\n",
      "At iterate    0    f=  2.75200D+00    |proj g|=  1.44919D-01\n"
     ]
    },
    {
     "name": "stderr",
     "output_type": "stream",
     "text": [
      " This problem is unconstrained.\n"
     ]
    },
    {
     "name": "stdout",
     "output_type": "stream",
     "text": [
      "RUNNING THE L-BFGS-B CODE\n",
      "\n",
      "           * * *\n",
      "\n",
      "Machine precision = 2.220D-16\n",
      " N =            7     M =           10\n",
      "\n",
      "At X0         0 variables are exactly at the bounds\n",
      "\n",
      "At iterate    0    f=  2.15507D+00    |proj g|=  2.12401D-01\n"
     ]
    },
    {
     "name": "stderr",
     "output_type": "stream",
     "text": [
      " This problem is unconstrained.\n"
     ]
    },
    {
     "name": "stdout",
     "output_type": "stream",
     "text": [
      "RUNNING THE L-BFGS-B CODE\n",
      "\n",
      "           * * *\n",
      "\n",
      "Machine precision = 2.220D-16\n",
      " N =           11     M =           10\n",
      "\n",
      "At X0         0 variables are exactly at the bounds\n",
      "\n",
      "At iterate    0    f=  2.65974D+00    |proj g|=  1.59582D-01\n"
     ]
    },
    {
     "name": "stderr",
     "output_type": "stream",
     "text": [
      " This problem is unconstrained.\n"
     ]
    },
    {
     "name": "stdout",
     "output_type": "stream",
     "text": [
      "RUNNING THE L-BFGS-B CODE\n",
      "\n",
      "           * * *\n",
      "\n",
      "Machine precision = 2.220D-16\n",
      " N =           12     M =           10\n",
      "\n",
      "At X0         0 variables are exactly at the bounds\n",
      "\n",
      "At iterate    0    f=  2.14072D+00    |proj g|=  2.13729D-01\n"
     ]
    },
    {
     "name": "stderr",
     "output_type": "stream",
     "text": [
      " This problem is unconstrained.\n"
     ]
    },
    {
     "name": "stdout",
     "output_type": "stream",
     "text": [
      "RUNNING THE L-BFGS-B CODE\n",
      "\n",
      "           * * *\n",
      "\n",
      "Machine precision = 2.220D-16\n",
      " N =           10     M =           10\n",
      "\n",
      "At X0         0 variables are exactly at the bounds\n",
      "\n",
      "At iterate    0    f=  2.14338D+00    |proj g|=  2.13369D-01\n"
     ]
    },
    {
     "name": "stderr",
     "output_type": "stream",
     "text": [
      " This problem is unconstrained.\n"
     ]
    },
    {
     "name": "stdout",
     "output_type": "stream",
     "text": [
      "\n",
      "At iterate    5    f=  2.66158D+00    |proj g|=  1.54085D-01\n",
      "RUNNING THE L-BFGS-B CODE\n",
      "\n",
      "           * * *\n",
      "\n",
      "Machine precision = 2.220D-16\n",
      " N =           11     M =           10\n",
      "\n",
      "At X0         0 variables are exactly at the bounds\n",
      "\n",
      "At iterate    0    f=  2.14205D+00    |proj g|=  2.13632D-01\n"
     ]
    },
    {
     "name": "stderr",
     "output_type": "stream",
     "text": [
      " This problem is unconstrained.\n"
     ]
    },
    {
     "ename": "KeyboardInterrupt",
     "evalue": "",
     "output_type": "error",
     "traceback": [
      "\u001B[0;31m---------------------------------------------------------------------------\u001B[0m",
      "\u001B[0;31mKeyboardInterrupt\u001B[0m                         Traceback (most recent call last)",
      "Cell \u001B[0;32mIn[1], line 61\u001B[0m\n\u001B[1;32m     58\u001B[0m batch_seasonal_pdq \u001B[38;5;241m=\u001B[39m seasonal_pdq[j:j \u001B[38;5;241m+\u001B[39m batch_size]\n\u001B[1;32m     60\u001B[0m n_jobs \u001B[38;5;241m=\u001B[39m \u001B[38;5;241m16\u001B[39m\n\u001B[0;32m---> 61\u001B[0m batch_results \u001B[38;5;241m=\u001B[39m \u001B[43mParallel\u001B[49m\u001B[43m(\u001B[49m\u001B[43mn_jobs\u001B[49m\u001B[38;5;241;43m=\u001B[39;49m\u001B[43mn_jobs\u001B[49m\u001B[43m,\u001B[49m\u001B[43m \u001B[49m\u001B[43mpre_dispatch\u001B[49m\u001B[38;5;241;43m=\u001B[39;49m\u001B[38;5;124;43m'\u001B[39;49m\u001B[38;5;124;43m2*n_jobs\u001B[39;49m\u001B[38;5;124;43m'\u001B[39;49m\u001B[43m,\u001B[49m\u001B[43m \u001B[49m\u001B[43mmax_nbytes\u001B[49m\u001B[38;5;241;43m=\u001B[39;49m\u001B[38;5;124;43m'\u001B[39;49m\u001B[38;5;124;43m1M\u001B[39;49m\u001B[38;5;124;43m'\u001B[39;49m\u001B[43m)\u001B[49m\u001B[43m(\u001B[49m\n\u001B[1;32m     62\u001B[0m \u001B[43m    \u001B[49m\u001B[43mdelayed\u001B[49m\u001B[43m(\u001B[49m\u001B[43mfit_sarima\u001B[49m\u001B[43m)\u001B[49m\u001B[43m(\u001B[49m\u001B[43mparam\u001B[49m\u001B[43m,\u001B[49m\u001B[43m \u001B[49m\u001B[43mparam_seasonal\u001B[49m\u001B[43m)\u001B[49m\u001B[43m \u001B[49m\u001B[38;5;28;43;01mfor\u001B[39;49;00m\u001B[43m \u001B[49m\u001B[43mparam\u001B[49m\u001B[43m \u001B[49m\u001B[38;5;129;43;01min\u001B[39;49;00m\u001B[43m \u001B[49m\u001B[43mbatch_pdq\u001B[49m\u001B[43m \u001B[49m\u001B[38;5;28;43;01mfor\u001B[39;49;00m\u001B[43m \u001B[49m\u001B[43mparam_seasonal\u001B[49m\u001B[43m \u001B[49m\u001B[38;5;129;43;01min\u001B[39;49;00m\u001B[43m \u001B[49m\u001B[43mbatch_seasonal_pdq\u001B[49m\u001B[43m)\u001B[49m\n\u001B[1;32m     64\u001B[0m all_results\u001B[38;5;241m.\u001B[39mextend(batch_results)\n\u001B[1;32m     66\u001B[0m \u001B[38;5;66;03m# Write and print each batch result immediately after computation\u001B[39;00m\n",
      "File \u001B[0;32m~/PycharmProjects/Hylife_Assignment/venv/lib/python3.10/site-packages/joblib/parallel.py:1952\u001B[0m, in \u001B[0;36mParallel.__call__\u001B[0;34m(self, iterable)\u001B[0m\n\u001B[1;32m   1946\u001B[0m \u001B[38;5;66;03m# The first item from the output is blank, but it makes the interpreter\u001B[39;00m\n\u001B[1;32m   1947\u001B[0m \u001B[38;5;66;03m# progress until it enters the Try/Except block of the generator and\u001B[39;00m\n\u001B[1;32m   1948\u001B[0m \u001B[38;5;66;03m# reach the first `yield` statement. This starts the aynchronous\u001B[39;00m\n\u001B[1;32m   1949\u001B[0m \u001B[38;5;66;03m# dispatch of the tasks to the workers.\u001B[39;00m\n\u001B[1;32m   1950\u001B[0m \u001B[38;5;28mnext\u001B[39m(output)\n\u001B[0;32m-> 1952\u001B[0m \u001B[38;5;28;01mreturn\u001B[39;00m output \u001B[38;5;28;01mif\u001B[39;00m \u001B[38;5;28mself\u001B[39m\u001B[38;5;241m.\u001B[39mreturn_generator \u001B[38;5;28;01melse\u001B[39;00m \u001B[38;5;28;43mlist\u001B[39;49m\u001B[43m(\u001B[49m\u001B[43moutput\u001B[49m\u001B[43m)\u001B[49m\n",
      "File \u001B[0;32m~/PycharmProjects/Hylife_Assignment/venv/lib/python3.10/site-packages/joblib/parallel.py:1595\u001B[0m, in \u001B[0;36mParallel._get_outputs\u001B[0;34m(self, iterator, pre_dispatch)\u001B[0m\n\u001B[1;32m   1592\u001B[0m     \u001B[38;5;28;01myield\u001B[39;00m\n\u001B[1;32m   1594\u001B[0m     \u001B[38;5;28;01mwith\u001B[39;00m \u001B[38;5;28mself\u001B[39m\u001B[38;5;241m.\u001B[39m_backend\u001B[38;5;241m.\u001B[39mretrieval_context():\n\u001B[0;32m-> 1595\u001B[0m         \u001B[38;5;28;01myield from\u001B[39;00m \u001B[38;5;28mself\u001B[39m\u001B[38;5;241m.\u001B[39m_retrieve()\n\u001B[1;32m   1597\u001B[0m \u001B[38;5;28;01mexcept\u001B[39;00m \u001B[38;5;167;01mGeneratorExit\u001B[39;00m:\n\u001B[1;32m   1598\u001B[0m     \u001B[38;5;66;03m# The generator has been garbage collected before being fully\u001B[39;00m\n\u001B[1;32m   1599\u001B[0m     \u001B[38;5;66;03m# consumed. This aborts the remaining tasks if possible and warn\u001B[39;00m\n\u001B[1;32m   1600\u001B[0m     \u001B[38;5;66;03m# the user if necessary.\u001B[39;00m\n\u001B[1;32m   1601\u001B[0m     \u001B[38;5;28mself\u001B[39m\u001B[38;5;241m.\u001B[39m_exception \u001B[38;5;241m=\u001B[39m \u001B[38;5;28;01mTrue\u001B[39;00m\n",
      "File \u001B[0;32m~/PycharmProjects/Hylife_Assignment/venv/lib/python3.10/site-packages/joblib/parallel.py:1707\u001B[0m, in \u001B[0;36mParallel._retrieve\u001B[0;34m(self)\u001B[0m\n\u001B[1;32m   1702\u001B[0m \u001B[38;5;66;03m# If the next job is not ready for retrieval yet, we just wait for\u001B[39;00m\n\u001B[1;32m   1703\u001B[0m \u001B[38;5;66;03m# async callbacks to progress.\u001B[39;00m\n\u001B[1;32m   1704\u001B[0m \u001B[38;5;28;01mif\u001B[39;00m ((\u001B[38;5;28mlen\u001B[39m(\u001B[38;5;28mself\u001B[39m\u001B[38;5;241m.\u001B[39m_jobs) \u001B[38;5;241m==\u001B[39m \u001B[38;5;241m0\u001B[39m) \u001B[38;5;129;01mor\u001B[39;00m\n\u001B[1;32m   1705\u001B[0m     (\u001B[38;5;28mself\u001B[39m\u001B[38;5;241m.\u001B[39m_jobs[\u001B[38;5;241m0\u001B[39m]\u001B[38;5;241m.\u001B[39mget_status(\n\u001B[1;32m   1706\u001B[0m         timeout\u001B[38;5;241m=\u001B[39m\u001B[38;5;28mself\u001B[39m\u001B[38;5;241m.\u001B[39mtimeout) \u001B[38;5;241m==\u001B[39m TASK_PENDING)):\n\u001B[0;32m-> 1707\u001B[0m     \u001B[43mtime\u001B[49m\u001B[38;5;241;43m.\u001B[39;49m\u001B[43msleep\u001B[49m\u001B[43m(\u001B[49m\u001B[38;5;241;43m0.01\u001B[39;49m\u001B[43m)\u001B[49m\n\u001B[1;32m   1708\u001B[0m     \u001B[38;5;28;01mcontinue\u001B[39;00m\n\u001B[1;32m   1710\u001B[0m \u001B[38;5;66;03m# We need to be careful: the job list can be filling up as\u001B[39;00m\n\u001B[1;32m   1711\u001B[0m \u001B[38;5;66;03m# we empty it and Python list are not thread-safe by\u001B[39;00m\n\u001B[1;32m   1712\u001B[0m \u001B[38;5;66;03m# default hence the use of the lock\u001B[39;00m\n",
      "\u001B[0;31mKeyboardInterrupt\u001B[0m: "
     ]
    }
   ],
   "source": [
    "\n",
    "@memory.cache\n",
    "def fit_sarima(param, param_seasonal):\n",
    "    try:\n",
    "        model = SARIMAX(energy_data_train, order=param, seasonal_order=param_seasonal, enforce_stationarity=False,\n",
    "                        enforce_invertibility=False)\n",
    "        results = model.fit()\n",
    "        return {\n",
    "            \"Parameters\": param,\n",
    "            \"Seasonal Parameters\": param_seasonal,\n",
    "            \"AIC\": results.aic,\n",
    "            \"BIC\": results.bic,\n",
    "            \"HQIC\": results.hqic,\n",
    "            \"Log Likelihood\": results.llf,\n",
    "            \"Converged\": results.mle_retvals['converged'],\n",
    "            \"Num Iterations\": results.mle_retvals['iterations'],\n",
    "            \"Summary\": str(results.summary())\n",
    "        }\n",
    "    except Exception as e:\n",
    "        return {\n",
    "            \"Parameters\": param,\n",
    "            \"Seasonal Parameters\": param_seasonal,\n",
    "            \"Error\": str(e)\n",
    "        }\n",
    "\n",
    "\n",
    "f = open(output_path, 'w')\n",
    "\n",
    "batch_size = 10\n",
    "all_results = []\n",
    "\n",
    "for i in range(0, len(pdq), batch_size):\n",
    "    for j in range(0, len(seasonal_pdq), batch_size):\n",
    "        batch_pdq = pdq[i:i + batch_size]\n",
    "        batch_seasonal_pdq = seasonal_pdq[j:j + batch_size]\n",
    "\n",
    "        n_jobs = 16\n",
    "        batch_results = Parallel(n_jobs=n_jobs, pre_dispatch='2*n_jobs', max_nbytes='1M')(\n",
    "            delayed(fit_sarima)(param, param_seasonal) for param in batch_pdq for param_seasonal in batch_seasonal_pdq)\n",
    "\n",
    "        all_results.extend(batch_results)\n",
    "\n",
    "        # Write and print each batch result immediately after computation\n",
    "        for result in batch_results:\n",
    "            for key, value in result.items():\n",
    "                if key != \"Summary\":\n",
    "                    f.write(f\"{key}: {value}\\n\")\n",
    "                    print(f\"{key}: {value}\")\n",
    "            f.write(f\"\\n{result['Summary']}\\n\")\n",
    "            f.write(\"=\"*80 + \"\\n\\n\")  # Separator\n",
    "            print(result['Summary'])\n",
    "        f.flush()  # Make sure data is written to disk\n",
    "\n",
    "        print(\n",
    "            f\"Completed batch {i // batch_size + 1}-{j // batch_size + 1}/{len(pdq) // batch_size}-{len(seasonal_pdq) // batch_size}\")\n",
    "        gc.collect()\n",
    "\n",
    "results_sorted = sorted(all_results, key=lambda x: x[\"AIC\"])\n",
    "best_result = results_sorted[0]\n",
    "\n",
    "f.write(f\"\\nBest SARIMA Parameters: {best_result['Parameters']}\\n\")\n",
    "f.write(f\"Best Seasonal Parameters: {best_result['Seasonal Parameters']}\\n\")\n",
    "f.write(f\"Best AIC Value: {best_result['AIC']}\\n\\n\")\n",
    "f.close()\n",
    "\n",
    "print(f\"Best SARIMA Parameters: {best_result['Parameters']}\")\n",
    "print(f\"Best Seasonal Parameters: {best_result['Seasonal Parameters']}\")\n",
    "print(f\"Best AIC Value: {best_result['AIC']}\\n\")\n",
    "print(f\"Optimal parameters and all optimization outputs saved to {output_path}\")\n"
   ],
   "metadata": {
    "collapsed": false,
    "ExecuteTime": {
     "start_time": "2023-10-09T00:14:31.102350002Z"
    }
   },
   "id": "671972dc56ab4b70"
  },
  {
   "cell_type": "code",
   "execution_count": null,
   "outputs": [],
   "source": [],
   "metadata": {
    "collapsed": false
   },
   "id": "43ea77d55224d2cf"
  }
 ],
 "metadata": {
  "kernelspec": {
   "display_name": "Python 3",
   "language": "python",
   "name": "python3"
  },
  "language_info": {
   "codemirror_mode": {
    "name": "ipython",
    "version": 2
   },
   "file_extension": ".py",
   "mimetype": "text/x-python",
   "name": "python",
   "nbconvert_exporter": "python",
   "pygments_lexer": "ipython2",
   "version": "2.7.6"
  }
 },
 "nbformat": 4,
 "nbformat_minor": 5
}

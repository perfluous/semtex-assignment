{
 "cells": [
  {
   "cell_type": "code",
   "execution_count": 1,
   "id": "initial_id",
   "metadata": {
    "collapsed": true,
    "ExecuteTime": {
     "end_time": "2023-10-09T03:05:12.136626407Z",
     "start_time": "2023-10-09T03:05:10.442909088Z"
    }
   },
   "outputs": [
    {
     "name": "stderr",
     "output_type": "stream",
     "text": [
      "05:05:11 - cmdstanpy - INFO - Chain [1] start processing\n",
      "05:05:12 - cmdstanpy - INFO - Chain [1] done processing\n"
     ]
    },
    {
     "data": {
      "text/plain": "<prophet.forecaster.Prophet at 0x7f9836e28040>"
     },
     "execution_count": 1,
     "metadata": {},
     "output_type": "execute_result"
    }
   ],
   "source": [
    "import pandas as pd\n",
    "from prophet import Prophet\n",
    "\n",
    "# Load the data\n",
    "train_df = pd.read_csv('training_data.csv')\n",
    "train_df = train_df.rename(columns={'UTC': 'ds', 'Building Semtex OFFICE (kWh)': 'y'})\n",
    "\n",
    "# Initialize the Prophet model with the optimal hyperparameters\n",
    "optimal_model = Prophet(\n",
    "    daily_seasonality=False, \n",
    "    yearly_seasonality=False,\n",
    "    weekly_seasonality=False,\n",
    "    changepoint_prior_scale=0.001,\n",
    "    seasonality_prior_scale=10.0\n",
    ")\n",
    "\n",
    "# Add the regressor and custom seasonalities with the optimal Fourier orders\n",
    "optimal_model.add_regressor('Outside temp (0.1 °C)', prior_scale=10.0)\n",
    "optimal_model.add_seasonality(name='daily', period=24, fourier_order=6)\n",
    "optimal_model.add_seasonality(name='bi_daily', period=12, fourier_order=3)\n",
    "optimal_model.add_seasonality(name='weekly', period=7, fourier_order=20)\n",
    "\n",
    "# Fit the model to the training data\n",
    "optimal_model.fit(train_df)\n",
    "\n",
    "# If you want to make predictions, you can continue with:\n",
    "# future = optimal_model.make_future_dataframe(periods=some_value)\n",
    "# forecast = optimal_model.predict(future)\n",
    "# optimal_model.plot(forecast)\n"
   ]
  },
  {
   "cell_type": "code",
   "execution_count": null,
   "outputs": [],
   "source": [
    "from sklearn.metrics import mean_squared_error\n",
    "\n",
    "# 1. Load the validation data\n",
    "validation_data = pd.read_csv('validation_data.csv')\n",
    "\n",
    "# 2. Prepare the data for Prophet\n",
    "validation_df = validation_data.rename(columns={'UTC': 'ds', 'Building Semtex OFFICE (kWh)': 'y'})\n",
    "\n",
    "# 3. Make predictions using the trained Prophet model\n",
    "future = optimal_model.make_future_dataframe(periods=len(validation_df), freq='H', include_history=False)\n",
    "# Add the regressor to the future dataframe\n",
    "future['Outside temp (0.1 °C)'] = validation_df['Outside temp (0.1 °C)']\n",
    "\n",
    "forecast = optimal_model.predict(future)\n",
    "\n",
    "# 4. Calculate RMSE\n",
    "rmse = mean_squared_error(validation_df['y'], forecast['yhat'], squared=False)\n",
    "print(\"RMSE on Validation Data:\", rmse)\n"
   ],
   "metadata": {
    "collapsed": false
   },
   "id": "d6371ad7fad3f25"
  },
  {
   "cell_type": "markdown",
   "source": [
    "RMSE on Validation Data: 8.373142549432897"
   ],
   "metadata": {
    "collapsed": false
   },
   "id": "ae83b21e5aad3256"
  },
  {
   "cell_type": "code",
   "execution_count": 2,
   "outputs": [
    {
     "name": "stderr",
     "output_type": "stream",
     "text": [
      "05:06:59 - cmdstanpy - INFO - Chain [1] start processing\n",
      "05:07:00 - cmdstanpy - INFO - Chain [1] done processing\n"
     ]
    },
    {
     "name": "stdout",
     "output_type": "stream",
     "text": [
      "                    ds  Outside temp (0.1 °C)\n",
      "0  2022-02-01 00:00:00                   16.0\n",
      "1  2022-02-01 01:00:00                   27.0\n",
      "2  2022-02-01 02:00:00                   30.0\n",
      "3  2022-02-01 03:00:00                   33.0\n",
      "4  2022-02-01 04:00:00                   36.0\n",
      "                   ds  Outside temp (0.1 °C)\n",
      "0 2022-02-01 00:00:00                   16.0\n",
      "1 2022-02-01 01:00:00                   27.0\n",
      "2 2022-02-01 02:00:00                   30.0\n",
      "3 2022-02-01 03:00:00                   33.0\n",
      "4 2022-02-01 04:00:00                   36.0\n"
     ]
    }
   ],
   "source": [
    "# Actual forecast\n",
    "import pandas as pd\n",
    "from prophet import Prophet\n",
    "\n",
    "# Load the data\n",
    "train_df = pd.read_csv('training_data.csv')\n",
    "train_df = train_df.rename(columns={'UTC': 'ds', 'Building Semtex OFFICE (kWh)': 'y'})\n",
    "\n",
    "# Initialize the Prophet model with the optimal hyperparameters\n",
    "optimal_model = Prophet(\n",
    "    daily_seasonality=False, \n",
    "    yearly_seasonality=False,\n",
    "    weekly_seasonality=False,\n",
    "    changepoint_prior_scale=0.001,\n",
    "    seasonality_prior_scale=10.0\n",
    ")\n",
    "\n",
    "# Add the regressor and custom seasonalities with the optimal Fourier orders\n",
    "optimal_model.add_regressor('Outside temp (0.1 °C)', prior_scale=10.0)\n",
    "optimal_model.add_seasonality(name='daily', period=24, fourier_order=6)\n",
    "optimal_model.add_seasonality(name='bi_daily', period=12, fourier_order=3)\n",
    "optimal_model.add_seasonality(name='weekly', period=7, fourier_order=20)\n",
    "\n",
    "# Fit the model to the training data\n",
    "optimal_model.fit(train_df)\n",
    "\n",
    "from sklearn.metrics import mean_squared_error\n",
    "from prophet import Prophet\n",
    "\n",
    "# 1. Load the forecasting data\n",
    "forecast_data = pd.read_csv('forecast_data.csv')\n",
    "\n",
    "# 2. Prepare the data for Prophet\n",
    "forecast_df = forecast_data.rename(columns={'UTC': 'ds'})\n",
    "\n",
    "# 3. Create the future dataframe directly from forecast_df\n",
    "future = forecast_df[['ds']].copy()\n",
    "# Add the regressor to the future dataframe\n",
    "future['Outside temp (0.1 °C)'] = forecast_df['Outside temp (0.1 °C)']\n",
    "\n",
    "forecast = optimal_model.predict(future)\n",
    "\n",
    "# Correct the regressor values in the forecast dataframe\n",
    "forecast['Outside temp (0.1 °C)'] = future['Outside temp (0.1 °C)'].values\n"
   ],
   "metadata": {
    "collapsed": false,
    "ExecuteTime": {
     "end_time": "2023-10-09T03:07:00.480049720Z",
     "start_time": "2023-10-09T03:06:59.138398052Z"
    }
   },
   "id": "c2e0b7e7cf71df77"
  }
 ],
 "metadata": {
  "kernelspec": {
   "display_name": "Python 3",
   "language": "python",
   "name": "python3"
  },
  "language_info": {
   "codemirror_mode": {
    "name": "ipython",
    "version": 2
   },
   "file_extension": ".py",
   "mimetype": "text/x-python",
   "name": "python",
   "nbconvert_exporter": "python",
   "pygments_lexer": "ipython2",
   "version": "2.7.6"
  }
 },
 "nbformat": 4,
 "nbformat_minor": 5
}

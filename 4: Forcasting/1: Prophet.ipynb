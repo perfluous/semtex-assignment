{
 "cells": [
  {
   "cell_type": "code",
   "execution_count": 1,
   "outputs": [],
   "source": [
    "import pandas as pd\n",
    "from prophet import Prophet\n",
    "from sklearn.metrics import mean_squared_error\n",
    "\n",
    "# Load the data\n",
    "training_data = pd.read_csv('training_data.csv')\n",
    "validation_data = pd.read_csv('validation_data.csv')\n",
    "\n",
    "# Preprocess for Prophet\n",
    "train_df = training_data.rename(columns={'UTC': 'ds', 'Building Semtex OFFICE (kWh)': 'y'})"
   ],
   "metadata": {
    "collapsed": false,
    "ExecuteTime": {
     "end_time": "2023-10-09T02:06:27.396424221Z",
     "start_time": "2023-10-09T02:06:26.609435053Z"
    }
   },
   "id": "d4c9b18c2ea3382c"
  },
  {
   "cell_type": "code",
   "execution_count": 1,
   "outputs": [
    {
     "name": "stderr",
     "output_type": "stream",
     "text": [
      "17:46:19 - cmdstanpy - INFO - Chain [1] start processing\n",
      "17:46:20 - cmdstanpy - INFO - Chain [1] done processing\n"
     ]
    },
    {
     "data": {
      "text/plain": "<prophet.forecaster.Prophet at 0x7ff5e4c2c040>"
     },
     "execution_count": 1,
     "metadata": {},
     "output_type": "execute_result"
    }
   ],
   "source": [
    "\n",
    "# Initialize Prophet model\n",
    "model = Prophet(daily_seasonality=False, yearly_seasonality=False, weekly_seasonality=False)\n",
    "\n",
    "# Add custom seasonalities based on our analysis\n",
    "model.add_seasonality(name='daily', period=24, fourier_order=8)\n",
    "model.add_seasonality(name='bi_daily', period=12, fourier_order=8)\n",
    "model.add_seasonality(name='weekly', period=168, fourier_order=10)\n",
    "model.add_seasonality(name='yearly', period=8760, fourier_order=20)\n",
    "model.add_seasonality(name='semi_annual', period=4380, fourier_order=15)\n",
    "\n",
    "# Fit the model\n",
    "model.fit(train_df)"
   ],
   "metadata": {
    "collapsed": false,
    "ExecuteTime": {
     "start_time": "2023-10-06T15:46:17.632507003Z"
    }
   },
   "id": "253856b5c9f87db2"
  },
  {
   "cell_type": "code",
   "execution_count": 2,
   "outputs": [
    {
     "name": "stdout",
     "output_type": "stream",
     "text": [
      "53.70296547730779\n"
     ]
    }
   ],
   "source": [
    "\n",
    "# Make predictions\n",
    "future = model.make_future_dataframe(periods=len(validation_data))\n",
    "forecast = model.predict(future)\n",
    "\n",
    "# Calculate RMSE on the validation set\n",
    "forecast_valid = forecast['yhat'][-len(validation_data):]\n",
    "rmse = mean_squared_error(validation_data['Building Semtex OFFICE (kWh)'], forecast_valid, squared=False)\n",
    "print(rmse)\n"
   ],
   "metadata": {
    "collapsed": false,
    "ExecuteTime": {
     "end_time": "2023-10-06T15:46:21.319202306Z",
     "start_time": "2023-10-06T15:46:20.260617681Z"
    }
   },
   "id": "f529b125f6ee319d"
  },
  {
   "cell_type": "code",
   "execution_count": 3,
   "outputs": [
    {
     "name": "stderr",
     "output_type": "stream",
     "text": [
      "17:46:21 - cmdstanpy - INFO - Chain [1] start processing\n",
      "17:46:21 - cmdstanpy - INFO - Chain [1] done processing\n"
     ]
    },
    {
     "name": "stdout",
     "output_type": "stream",
     "text": [
      "RMSE with Daily Seasonality: 11.568602310847082\n"
     ]
    }
   ],
   "source": [
    "from prophet import Prophet\n",
    "from sklearn.metrics import mean_squared_error\n",
    "\n",
    "# Load the data\n",
    "train_df = pd.read_csv('training_data.csv')\n",
    "validation_df = pd.read_csv('validation_data.csv')\n",
    "\n",
    "# Prepare the training dataframe\n",
    "train_df = train_df.rename(columns={'UTC': 'ds', 'Building Semtex OFFICE (kWh)': 'y'})\n",
    "\n",
    "# Define and fit the model\n",
    "model_daily = Prophet(daily_seasonality=True, yearly_seasonality=False, weekly_seasonality=False)\n",
    "model_daily.fit(train_df)\n",
    "\n",
    "# Predict on the validation set\n",
    "future_daily = model_daily.make_future_dataframe(periods=len(validation_df), freq='H', include_history=False)\n",
    "forecast_daily = model_daily.predict(future_daily)\n",
    "\n",
    "# Compute RMSE for daily seasonality\n",
    "rmse_daily = mean_squared_error(validation_df['Building Semtex OFFICE (kWh)'], forecast_daily['yhat'], squared=False)\n",
    "print(\"RMSE with Daily Seasonality:\", rmse_daily)\n"
   ],
   "metadata": {
    "collapsed": false,
    "ExecuteTime": {
     "end_time": "2023-10-06T15:46:21.971982676Z",
     "start_time": "2023-10-06T15:46:21.321122836Z"
    }
   },
   "id": "7d57a82c9e3c5c40"
  },
  {
   "cell_type": "code",
   "execution_count": 4,
   "outputs": [
    {
     "name": "stderr",
     "output_type": "stream",
     "text": [
      "17:46:22 - cmdstanpy - INFO - Chain [1] start processing\n",
      "17:46:22 - cmdstanpy - INFO - Chain [1] done processing\n"
     ]
    },
    {
     "name": "stdout",
     "output_type": "stream",
     "text": [
      "RMSE with Bi-Daily Seasonality: 14.224061228576645\n"
     ]
    }
   ],
   "source": [
    "# Define and fit the model with bi-daily seasonality\n",
    "model_bidaily = Prophet(daily_seasonality=False, yearly_seasonality=False, weekly_seasonality=False)\n",
    "model_bidaily.add_seasonality(name='bi_daily', period=12, fourier_order=5)\n",
    "model_bidaily.fit(train_df)\n",
    "\n",
    "# Predict on the validation set\n",
    "future_bidaily = model_bidaily.make_future_dataframe(periods=len(validation_df), freq='H', include_history=False)\n",
    "forecast_bidaily = model_bidaily.predict(future_bidaily)\n",
    "\n",
    "# Compute RMSE for bi-daily seasonality\n",
    "rmse_bidaily = mean_squared_error(validation_df['Building Semtex OFFICE (kWh)'], forecast_bidaily['yhat'], squared=False)\n",
    "print(\"RMSE with Bi-Daily Seasonality:\", rmse_bidaily)\n"
   ],
   "metadata": {
    "collapsed": false,
    "ExecuteTime": {
     "end_time": "2023-10-06T15:46:22.658373064Z",
     "start_time": "2023-10-06T15:46:21.973785109Z"
    }
   },
   "id": "601faebdbe9106a9"
  },
  {
   "cell_type": "code",
   "execution_count": 5,
   "outputs": [
    {
     "name": "stderr",
     "output_type": "stream",
     "text": [
      "17:46:22 - cmdstanpy - INFO - Chain [1] start processing\n",
      "17:46:23 - cmdstanpy - INFO - Chain [1] done processing\n"
     ]
    },
    {
     "name": "stdout",
     "output_type": "stream",
     "text": [
      "RMSE with Weekly Seasonality: 14.10785607247468\n"
     ]
    }
   ],
   "source": [
    "# Define and fit the model with weekly seasonality\n",
    "model_weekly = Prophet(daily_seasonality=False, yearly_seasonality=False, weekly_seasonality=True)\n",
    "model_weekly.fit(train_df)\n",
    "\n",
    "# Predict on the validation set\n",
    "future_weekly = model_weekly.make_future_dataframe(periods=len(validation_df), freq='H', include_history=False)\n",
    "forecast_weekly = model_weekly.predict(future_weekly)\n",
    "\n",
    "# Compute RMSE for weekly seasonality\n",
    "rmse_weekly = mean_squared_error(validation_df['Building Semtex OFFICE (kWh)'], forecast_weekly['yhat'], squared=False)\n",
    "print(\"RMSE with Weekly Seasonality:\", rmse_weekly)\n"
   ],
   "metadata": {
    "collapsed": false,
    "ExecuteTime": {
     "end_time": "2023-10-06T15:46:23.330969036Z",
     "start_time": "2023-10-06T15:46:22.660138526Z"
    }
   },
   "id": "32c04479dd9d7f2"
  },
  {
   "cell_type": "code",
   "execution_count": 6,
   "outputs": [
    {
     "name": "stderr",
     "output_type": "stream",
     "text": [
      "17:46:23 - cmdstanpy - INFO - Chain [1] start processing\n",
      "17:46:23 - cmdstanpy - INFO - Chain [1] done processing\n"
     ]
    },
    {
     "name": "stdout",
     "output_type": "stream",
     "text": [
      "RMSE with Semi-Annual Seasonality: 11.861810600784017\n"
     ]
    }
   ],
   "source": [
    "# Define and fit the model with semi-annual seasonality\n",
    "model_semi_annual = Prophet(daily_seasonality=False, yearly_seasonality=False, weekly_seasonality=False)\n",
    "model_semi_annual.add_seasonality(name='semi_annual', period=365.25*24/2, fourier_order=5)\n",
    "model_semi_annual.fit(train_df)\n",
    "\n",
    "# Predict on the validation set\n",
    "future_semi_annual = model_semi_annual.make_future_dataframe(periods=len(validation_df), freq='H', include_history=False)\n",
    "forecast_semi_annual = model_semi_annual.predict(future_semi_annual)\n",
    "\n",
    "# Compute RMSE for semi-annual seasonality\n",
    "rmse_semi_annual = mean_squared_error(validation_df['Building Semtex OFFICE (kWh)'], forecast_semi_annual['yhat'], squared=False)\n",
    "print(\"RMSE with Semi-Annual Seasonality:\", rmse_semi_annual)\n"
   ],
   "metadata": {
    "collapsed": false,
    "ExecuteTime": {
     "end_time": "2023-10-06T15:46:23.780869011Z",
     "start_time": "2023-10-06T15:46:23.329773584Z"
    }
   },
   "id": "95fa3dd530c9523e"
  },
  {
   "cell_type": "code",
   "execution_count": 7,
   "outputs": [
    {
     "name": "stderr",
     "output_type": "stream",
     "text": [
      "17:46:23 - cmdstanpy - INFO - Chain [1] start processing\n",
      "17:46:24 - cmdstanpy - INFO - Chain [1] done processing\n"
     ]
    },
    {
     "name": "stdout",
     "output_type": "stream",
     "text": [
      "RMSE with Annual Seasonality: 10.991295292082656\n"
     ]
    }
   ],
   "source": [
    "# Define and fit the model with annual seasonality\n",
    "model_annual = Prophet(daily_seasonality=False, yearly_seasonality=True, weekly_seasonality=False)\n",
    "model_annual.fit(train_df)\n",
    "\n",
    "# Predict on the validation set\n",
    "future_annual = model_annual.make_future_dataframe(periods=len(validation_df), freq='H', include_history=False)\n",
    "forecast_annual = model_annual.predict(future_annual)\n",
    "\n",
    "# Compute RMSE for annual seasonality\n",
    "rmse_annual = mean_squared_error(validation_df['Building Semtex OFFICE (kWh)'], forecast_annual['yhat'], squared=False)\n",
    "print(\"RMSE with Annual Seasonality:\", rmse_annual)\n"
   ],
   "metadata": {
    "collapsed": false,
    "ExecuteTime": {
     "end_time": "2023-10-06T15:46:24.372007155Z",
     "start_time": "2023-10-06T15:46:23.780332891Z"
    }
   },
   "id": "98dbec68cdb2798"
  },
  {
   "cell_type": "code",
   "execution_count": null,
   "outputs": [],
   "source": [
    "from prophet import Prophet\n",
    "from sklearn.metrics import mean_squared_error\n",
    "import pandas as pd\n",
    "\n",
    "# Load the data\n",
    "train_df = pd.read_csv('training_data.csv')\n",
    "validation_df = pd.read_csv('validation_data.csv')\n",
    "\n",
    "# Prepare the training dataframe\n",
    "train_df = train_df.rename(columns={'UTC': 'ds', 'Building Semtex OFFICE (kWh)': 'y'})\n",
    "\n",
    "# Create a Prophet model\n",
    "model_with_regressors = Prophet()\n",
    "\n",
    "# Add only the 'Outside temp (0.1 °C)' as a regressor\n",
    "model_with_regressors.add_regressor('Outside temp (0.1 °C)')\n",
    "\n",
    "# Fit the model to the training data\n",
    "model_with_regressors.fit(train_df)\n",
    "\n",
    "# Predict on the validation set\n",
    "future_with_regressors = model_with_regressors.make_future_dataframe(periods=len(validation_df), freq='H', include_history=False)\n",
    "\n",
    "# Add the 'Outside temp (0.1 °C)' regressor to the future dataframe\n",
    "future_with_regressors['Outside temp (0.1 °C)'] = validation_df['Outside temp (0.1 °C)']\n",
    "\n",
    "# Predict on the validation set and compute RMSE\n",
    "forecast_with_regressors = model_with_regressors.predict(future_with_regressors)\n",
    "rmse_with_regressors = mean_squared_error(validation_df['Building Semtex OFFICE (kWh)'], forecast_with_regressors['yhat'], squared=False)\n",
    "print(\"RMSE with Additional Regressor (Temperature Only):\", rmse_with_regressors)\n"
   ],
   "metadata": {
    "collapsed": false
   },
   "id": "c785810ddbf3bafc"
  }
 ],
 "metadata": {
  "kernelspec": {
   "display_name": "Python 3",
   "language": "python",
   "name": "python3"
  },
  "language_info": {
   "codemirror_mode": {
    "name": "ipython",
    "version": 2
   },
   "file_extension": ".py",
   "mimetype": "text/x-python",
   "name": "python",
   "nbconvert_exporter": "python",
   "pygments_lexer": "ipython2",
   "version": "2.7.6"
  }
 },
 "nbformat": 4,
 "nbformat_minor": 5
}
